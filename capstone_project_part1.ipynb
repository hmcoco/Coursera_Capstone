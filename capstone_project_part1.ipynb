{
 "cells": [
  {
   "cell_type": "markdown",
   "metadata": {},
   "source": [
    "# 1. Introduction"
   ]
  },
  {
   "cell_type": "markdown",
   "metadata": {},
   "source": [
    "Assume I own a consulting firm that provides location services for clients. The clients can be anyone who believe location matters for their business. They can be restaurants, banks, fitness centers, barbarshops and other shops."
   ]
  },
  {
   "cell_type": "markdown",
   "metadata": {},
   "source": [
    "During the Pandemic, a lot of restaurants were shut down, and some of them even had to close permanently. As business shutdown order is lifted, new restaurants are emerging to meet people’s demand for food in big cities. In this capstone project, I take an Italian restaurant as example of problem to solve. Now one of my clients is going to open an Italian restaurant in Boston, and he wants us to help him find the best location of three candidate locations."
   ]
  },
  {
   "cell_type": "markdown",
   "metadata": {},
   "source": [
    "## Audience"
   ]
  },
  {
   "cell_type": "markdown",
   "metadata": {},
   "source": [
    "Because the business we can serve can be all sorts of business that have demand of best location, our audience is companies, organizations or business persons who want to find the best location to run their business with high performance."
   ]
  },
  {
   "cell_type": "markdown",
   "metadata": {},
   "source": [
    "## Problem to solve"
   ]
  },
  {
   "cell_type": "markdown",
   "metadata": {},
   "source": [
    "The problem to solve is to look for the best location for an Italian restaurant. "
   ]
  },
  {
   "cell_type": "markdown",
   "metadata": {},
   "source": [
    "## Criteria of the best location"
   ]
  },
  {
   "cell_type": "markdown",
   "metadata": {},
   "source": [
    "There are different criteria for different business that define what is the best location. In this project, the criteria of the best location for the Italian restaurant are as follows."
   ]
  },
  {
   "cell_type": "markdown",
   "metadata": {},
   "source": [
    "1. There are no more than two Italian Restaurants within 500 meters.\n",
    "2. There is at least one big park within 500 meters. \n",
    "3. There is at least one big mall within 500 meters.\n"
   ]
  },
  {
   "cell_type": "markdown",
   "metadata": {},
   "source": [
    "# 2. Data"
   ]
  },
  {
   "cell_type": "markdown",
   "metadata": {},
   "source": [
    "1. Assume three candidate locations in Boston in latitude/longitude\n",
    "2. Park and restaurant data will be obtained from Foursquare that provides venues near the three candidate locations.\n",
    "3. Shopping center data will be obtained by scraping this webpage https://www.bostoncentral.com/shopping.php.\n"
   ]
  },
  {
   "cell_type": "code",
   "execution_count": null,
   "metadata": {},
   "outputs": [],
   "source": []
  }
 ],
 "metadata": {
  "kernelspec": {
   "display_name": "Python 3",
   "language": "python",
   "name": "python3"
  },
  "language_info": {
   "codemirror_mode": {
    "name": "ipython",
    "version": 3
   },
   "file_extension": ".py",
   "mimetype": "text/x-python",
   "name": "python",
   "nbconvert_exporter": "python",
   "pygments_lexer": "ipython3",
   "version": "3.7.7"
  }
 },
 "nbformat": 4,
 "nbformat_minor": 4
}
