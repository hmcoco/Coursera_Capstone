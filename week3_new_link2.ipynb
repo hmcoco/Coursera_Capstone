{
 "cells": [
  {
   "cell_type": "code",
   "execution_count": 1,
   "metadata": {},
   "outputs": [],
   "source": [
    "import pandas as pd\n",
    "import numpy as np\n",
    "import requests\n",
    "from bs4 import BeautifulSoup\n",
    "import csv\n",
    "import geocoder"
   ]
  },
  {
   "cell_type": "markdown",
   "metadata": {},
   "source": [
    "## Use BeautifulSoup to scrape the website to get the table of neighborhoods"
   ]
  },
  {
   "cell_type": "code",
   "execution_count": 2,
   "metadata": {},
   "outputs": [],
   "source": [
    "url = \"https://en.wikipedia.org/wiki/List_of_postal_codes_of_Canada:_M\"\n",
    "req = requests.get(url)\n",
    "soup = BeautifulSoup(req.text, \"html.parser\")\n",
    "#print(soup)\n",
    "iTable = soup.find('table', attrs={\"class\":\"wikitable sortable\"})\n",
    "#print(iTable)"
   ]
  },
  {
   "cell_type": "markdown",
   "metadata": {},
   "source": [
    "## Write the content of the table into a csv file"
   ]
  },
  {
   "cell_type": "code",
   "execution_count": 3,
   "metadata": {},
   "outputs": [
    {
     "name": "stdout",
     "output_type": "stream",
     "text": [
      "drop this line:  M1A\n",
      "drop this line:  M2A\n",
      "drop this line:  M8A\n",
      "drop this line:  M2B\n",
      "drop this line:  M7B\n",
      "drop this line:  M8B\n",
      "drop this line:  M2C\n",
      "drop this line:  M7C\n",
      "drop this line:  M8C\n",
      "drop this line:  M2E\n",
      "drop this line:  M3E\n",
      "drop this line:  M7E\n",
      "drop this line:  M8E\n",
      "drop this line:  M9E\n",
      "drop this line:  M2G\n",
      "drop this line:  M3G\n",
      "drop this line:  M7G\n",
      "drop this line:  M8G\n",
      "drop this line:  M9G\n",
      "drop this line:  M7H\n",
      "drop this line:  M8H\n",
      "drop this line:  M9H\n",
      "drop this line:  M7J\n",
      "drop this line:  M8J\n",
      "drop this line:  M9J\n",
      "drop this line:  M7K\n",
      "drop this line:  M8K\n",
      "drop this line:  M9K\n",
      "drop this line:  M7L\n",
      "drop this line:  M8L\n",
      "drop this line:  M7M\n",
      "drop this line:  M8M\n",
      "drop this line:  M7N\n",
      "drop this line:  M8N\n",
      "drop this line:  M3P\n",
      "drop this line:  M7P\n",
      "drop this line:  M8P\n",
      "drop this line:  M3R\n",
      "drop this line:  M8R\n",
      "drop this line:  M2S\n",
      "drop this line:  M3S\n",
      "drop this line:  M7S\n",
      "drop this line:  M8S\n",
      "drop this line:  M9S\n",
      "drop this line:  M2T\n",
      "drop this line:  M3T\n",
      "drop this line:  M6T\n",
      "drop this line:  M7T\n",
      "drop this line:  M8T\n",
      "drop this line:  M9T\n",
      "drop this line:  M2V\n",
      "drop this line:  M3V\n",
      "drop this line:  M6V\n",
      "drop this line:  M7V\n",
      "drop this line:  M2W\n",
      "drop this line:  M3W\n",
      "drop this line:  M6W\n",
      "drop this line:  M7W\n",
      "drop this line:  M2X\n",
      "drop this line:  M3X\n",
      "drop this line:  M6X\n",
      "drop this line:  M7X\n",
      "drop this line:  M9X\n",
      "drop this line:  M1Y\n",
      "drop this line:  M2Y\n",
      "drop this line:  M3Y\n",
      "drop this line:  M5Y\n",
      "drop this line:  M6Y\n",
      "drop this line:  M9Y\n",
      "drop this line:  M1Z\n",
      "drop this line:  M2Z\n",
      "drop this line:  M3Z\n",
      "drop this line:  M4Z\n",
      "drop this line:  M5Z\n",
      "drop this line:  M6Z\n",
      "drop this line:  M7Z\n",
      "drop this line:  M9Z\n"
     ]
    }
   ],
   "source": [
    "with open('tasks/neighborhoods_6.csv','w', newline='') as csvfile:\n",
    "    output_file = csv.writer(csvfile, delimiter=',')\n",
    "    output_file.writerow(['PostalCode','Borough','Neighborhood'])\n",
    "    \n",
    "    # handle each row\n",
    "    for tr in iTable.tbody.find_all(\"tr\"):\n",
    "        #print(tr)\n",
    "        tds = []\n",
    "        for td in tr.find_all(\"td\"):\n",
    "            tds.append(td.text.replace('\\n','').strip())\n",
    "        \n",
    "        if (len(tds) > 0):  # avoid empty list from th tag\n",
    "            if (tds[1] == 'Not assigned'):\n",
    "                print(\"drop this line: \", tds[0])\n",
    "            else:\n",
    "                output_file.writerow(tds)"
   ]
  },
  {
   "cell_type": "markdown",
   "metadata": {},
   "source": [
    "## Read csv file into pandas dataframe"
   ]
  },
  {
   "cell_type": "code",
   "execution_count": 4,
   "metadata": {},
   "outputs": [
    {
     "name": "stdout",
     "output_type": "stream",
     "text": [
      "  PostalCode           Borough                                 Neighborhood\n",
      "0        M3A        North York                                    Parkwoods\n",
      "1        M4A        North York                             Victoria Village\n",
      "2        M5A  Downtown Toronto                    Regent Park, Harbourfront\n",
      "3        M6A        North York             Lawrence Manor, Lawrence Heights\n",
      "4        M7A  Downtown Toronto  Queen's Park, Ontario Provincial Government\n"
     ]
    }
   ],
   "source": [
    "df = pd.read_csv('tasks/neighborhoods_6.csv')\n",
    "print(df.head())"
   ]
  },
  {
   "cell_type": "code",
   "execution_count": 5,
   "metadata": {},
   "outputs": [
    {
     "data": {
      "text/plain": [
       "(103, 3)"
      ]
     },
     "execution_count": 5,
     "metadata": {},
     "output_type": "execute_result"
    }
   ],
   "source": [
    "df.shape"
   ]
  },
  {
   "cell_type": "markdown",
   "metadata": {},
   "source": [
    "## Get long/lat of postal codes with geocoder "
   ]
  },
  {
   "cell_type": "code",
   "execution_count": 6,
   "metadata": {},
   "outputs": [
    {
     "name": "stdout",
     "output_type": "stream",
     "text": [
      "0      M3A\n",
      "1      M4A\n",
      "2      M5A\n",
      "3      M6A\n",
      "4      M7A\n",
      "      ... \n",
      "98     M8X\n",
      "99     M4Y\n",
      "100    M7Y\n",
      "101    M8Y\n",
      "102    M8Z\n",
      "Name: PostalCode, Length: 103, dtype: object\n"
     ]
    }
   ],
   "source": [
    "postal_code = df['PostalCode']\n",
    "print(postal_code)\n"
   ]
  },
  {
   "cell_type": "markdown",
   "metadata": {},
   "source": [
    "## Geocoder doesn't work. Use coordinates from existing csv file instead"
   ]
  },
  {
   "cell_type": "code",
   "execution_count": 10,
   "metadata": {},
   "outputs": [
    {
     "name": "stdout",
     "output_type": "stream",
     "text": [
      "  Postal Code   Latitude  Longitude\n",
      "0         M1B  43.806686 -79.194353\n",
      "1         M1C  43.784535 -79.160497\n",
      "2         M1E  43.763573 -79.188711\n",
      "3         M1G  43.770992 -79.216917\n",
      "4         M1H  43.773136 -79.239476\n",
      "done\n"
     ]
    }
   ],
   "source": [
    "#lat_lng_coords = None\n",
    "#while(lat_lng_coords is None):\n",
    "#    g = geocoder.google('{}, Toronto, Ontario'.format(postal_code))\n",
    "#    lat_lng_coords = g.latlng\n",
    "#latitude = lat_lng_coords[0]\n",
    "#longitude = lat_lng_coords[1]\n",
    "\n",
    "# read coordinates from file\n",
    "df_coordinate = pd.read_csv('tasks/Geospatial_Coordinates.csv')\n",
    "print(df_coordinate.head())\n",
    "print(\"done\")"
   ]
  },
  {
   "cell_type": "code",
   "execution_count": 11,
   "metadata": {},
   "outputs": [],
   "source": [
    "df_coordinate.rename(columns = {'Postal Code': 'PostalCode'}, inplace=True)"
   ]
  },
  {
   "cell_type": "code",
   "execution_count": 12,
   "metadata": {},
   "outputs": [
    {
     "data": {
      "text/plain": [
       "array(['PostalCode', 'Latitude', 'Longitude'], dtype=object)"
      ]
     },
     "execution_count": 12,
     "metadata": {},
     "output_type": "execute_result"
    }
   ],
   "source": [
    "df_coordinate.columns.values"
   ]
  },
  {
   "cell_type": "code",
   "execution_count": 13,
   "metadata": {},
   "outputs": [],
   "source": [
    "df_total = pd.merge(df, df_coordinate, on='PostalCode', how='inner')"
   ]
  },
  {
   "cell_type": "code",
   "execution_count": 15,
   "metadata": {},
   "outputs": [
    {
     "name": "stdout",
     "output_type": "stream",
     "text": [
      "    PostalCode           Borough  \\\n",
      "0          M3A        North York   \n",
      "1          M4A        North York   \n",
      "2          M5A  Downtown Toronto   \n",
      "3          M6A        North York   \n",
      "4          M7A  Downtown Toronto   \n",
      "..         ...               ...   \n",
      "98         M8X         Etobicoke   \n",
      "99         M4Y  Downtown Toronto   \n",
      "100        M7Y      East Toronto   \n",
      "101        M8Y         Etobicoke   \n",
      "102        M8Z         Etobicoke   \n",
      "\n",
      "                                          Neighborhood   Latitude  Longitude  \n",
      "0                                            Parkwoods  43.753259 -79.329656  \n",
      "1                                     Victoria Village  43.725882 -79.315572  \n",
      "2                            Regent Park, Harbourfront  43.654260 -79.360636  \n",
      "3                     Lawrence Manor, Lawrence Heights  43.718518 -79.464763  \n",
      "4          Queen's Park, Ontario Provincial Government  43.662301 -79.389494  \n",
      "..                                                 ...        ...        ...  \n",
      "98       The Kingsway, Montgomery Road, Old Mill North  43.653654 -79.506944  \n",
      "99                                Church and Wellesley  43.665860 -79.383160  \n",
      "100  Business reply mail Processing Centre, South C...  43.662744 -79.321558  \n",
      "101  Old Mill South, King's Mill Park, Sunnylea, Hu...  43.636258 -79.498509  \n",
      "102  Mimico NW, The Queensway West, South of Bloor,...  43.628841 -79.520999  \n",
      "\n",
      "[103 rows x 5 columns]\n"
     ]
    }
   ],
   "source": [
    "print(df_total)"
   ]
  },
  {
   "cell_type": "code",
   "execution_count": null,
   "metadata": {},
   "outputs": [],
   "source": []
  }
 ],
 "metadata": {
  "kernelspec": {
   "display_name": "Python 3",
   "language": "python",
   "name": "python3"
  },
  "language_info": {
   "codemirror_mode": {
    "name": "ipython",
    "version": 3
   },
   "file_extension": ".py",
   "mimetype": "text/x-python",
   "name": "python",
   "nbconvert_exporter": "python",
   "pygments_lexer": "ipython3",
   "version": "3.7.7"
  }
 },
 "nbformat": 4,
 "nbformat_minor": 4
}
