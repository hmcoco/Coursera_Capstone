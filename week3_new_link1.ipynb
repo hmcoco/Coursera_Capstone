{
 "cells": [
  {
   "cell_type": "code",
   "execution_count": 5,
   "metadata": {},
   "outputs": [],
   "source": [
    "import pandas as pd\n",
    "import numpy as np\n",
    "import requests\n",
    "from bs4 import BeautifulSoup\n",
    "import csv"
   ]
  },
  {
   "cell_type": "markdown",
   "metadata": {},
   "source": [
    "## Use BeautifulSoup to scrape the website to get the table of neighborhoods"
   ]
  },
  {
   "cell_type": "code",
   "execution_count": 6,
   "metadata": {},
   "outputs": [],
   "source": [
    "url = \"https://en.wikipedia.org/wiki/List_of_postal_codes_of_Canada:_M\"\n",
    "req = requests.get(url)\n",
    "soup = BeautifulSoup(req.text, \"html.parser\")\n",
    "#print(soup)\n",
    "#for iTable in soup.find_all('table'):\n",
    "#   print(iTable)\n",
    "iTable = soup.find('table', attrs={\"class\":\"wikitable sortable\"})\n",
    "#print(iTable)"
   ]
  },
  {
   "cell_type": "markdown",
   "metadata": {},
   "source": [
    "## Write the content of the table into a csv file"
   ]
  },
  {
   "cell_type": "code",
   "execution_count": 13,
   "metadata": {},
   "outputs": [
    {
     "name": "stdout",
     "output_type": "stream",
     "text": [
      "drop this line:  M1A\n",
      "drop this line:  M2A\n",
      "drop this line:  M8A\n",
      "drop this line:  M2B\n",
      "drop this line:  M7B\n",
      "drop this line:  M8B\n",
      "drop this line:  M2C\n",
      "drop this line:  M7C\n",
      "drop this line:  M8C\n",
      "drop this line:  M2E\n",
      "drop this line:  M3E\n",
      "drop this line:  M7E\n",
      "drop this line:  M8E\n",
      "drop this line:  M9E\n",
      "drop this line:  M2G\n",
      "drop this line:  M3G\n",
      "drop this line:  M7G\n",
      "drop this line:  M8G\n",
      "drop this line:  M9G\n",
      "drop this line:  M7H\n",
      "drop this line:  M8H\n",
      "drop this line:  M9H\n",
      "drop this line:  M7J\n",
      "drop this line:  M8J\n",
      "drop this line:  M9J\n",
      "drop this line:  M7K\n",
      "drop this line:  M8K\n",
      "drop this line:  M9K\n",
      "drop this line:  M7L\n",
      "drop this line:  M8L\n",
      "drop this line:  M7M\n",
      "drop this line:  M8M\n",
      "drop this line:  M7N\n",
      "drop this line:  M8N\n",
      "drop this line:  M3P\n",
      "drop this line:  M7P\n",
      "drop this line:  M8P\n",
      "drop this line:  M3R\n",
      "drop this line:  M8R\n",
      "drop this line:  M2S\n",
      "drop this line:  M3S\n",
      "drop this line:  M7S\n",
      "drop this line:  M8S\n",
      "drop this line:  M9S\n",
      "drop this line:  M2T\n",
      "drop this line:  M3T\n",
      "drop this line:  M6T\n",
      "drop this line:  M7T\n",
      "drop this line:  M8T\n",
      "drop this line:  M9T\n",
      "drop this line:  M2V\n",
      "drop this line:  M3V\n",
      "drop this line:  M6V\n",
      "drop this line:  M7V\n",
      "drop this line:  M2W\n",
      "drop this line:  M3W\n",
      "drop this line:  M6W\n",
      "drop this line:  M7W\n",
      "drop this line:  M2X\n",
      "drop this line:  M3X\n",
      "drop this line:  M6X\n",
      "drop this line:  M7X\n",
      "drop this line:  M9X\n",
      "drop this line:  M1Y\n",
      "drop this line:  M2Y\n",
      "drop this line:  M3Y\n",
      "drop this line:  M5Y\n",
      "drop this line:  M6Y\n",
      "drop this line:  M9Y\n",
      "drop this line:  M1Z\n",
      "drop this line:  M2Z\n",
      "drop this line:  M3Z\n",
      "drop this line:  M4Z\n",
      "drop this line:  M5Z\n",
      "drop this line:  M6Z\n",
      "drop this line:  M7Z\n",
      "drop this line:  M9Z\n"
     ]
    }
   ],
   "source": [
    "with open('tasks/neighborhoods_6.csv','w', newline='') as csvfile:\n",
    "    output_file = csv.writer(csvfile, delimiter=',')\n",
    "    output_file.writerow(['PostalCode','Borough','Neighborhood'])\n",
    "    \n",
    "    # handle each row\n",
    "    for tr in iTable.tbody.find_all(\"tr\"):\n",
    "        #print(tr)\n",
    "        tds = []\n",
    "        for td in tr.find_all(\"td\"):\n",
    "            tds.append(td.text.replace('\\n','').strip())\n",
    "        \n",
    "        if (len(tds) > 0):  # avoid empty list from th tag\n",
    "            if (tds[1] == 'Not assigned'):\n",
    "                print(\"drop this line: \", tds[0])\n",
    "            else:\n",
    "                output_file.writerow(tds)"
   ]
  },
  {
   "cell_type": "markdown",
   "metadata": {},
   "source": [
    "## Read csv file into pandas dataframe"
   ]
  },
  {
   "cell_type": "code",
   "execution_count": 16,
   "metadata": {},
   "outputs": [],
   "source": [
    "df = pd.read_csv('tasks/neighborhoods_6.csv')"
   ]
  },
  {
   "cell_type": "code",
   "execution_count": 17,
   "metadata": {},
   "outputs": [
    {
     "name": "stdout",
     "output_type": "stream",
     "text": [
      "  PostalCode           Borough                                 Neighborhood\n",
      "0        M3A        North York                                    Parkwoods\n",
      "1        M4A        North York                             Victoria Village\n",
      "2        M5A  Downtown Toronto                    Regent Park, Harbourfront\n",
      "3        M6A        North York             Lawrence Manor, Lawrence Heights\n",
      "4        M7A  Downtown Toronto  Queen's Park, Ontario Provincial Government\n"
     ]
    }
   ],
   "source": [
    "print(df.head())"
   ]
  },
  {
   "cell_type": "code",
   "execution_count": 18,
   "metadata": {},
   "outputs": [
    {
     "data": {
      "text/plain": [
       "(103, 3)"
      ]
     },
     "execution_count": 18,
     "metadata": {},
     "output_type": "execute_result"
    }
   ],
   "source": [
    "df.shape"
   ]
  },
  {
   "cell_type": "code",
   "execution_count": null,
   "metadata": {},
   "outputs": [],
   "source": []
  }
 ],
 "metadata": {
  "kernelspec": {
   "display_name": "Python 3",
   "language": "python",
   "name": "python3"
  },
  "language_info": {
   "codemirror_mode": {
    "name": "ipython",
    "version": 3
   },
   "file_extension": ".py",
   "mimetype": "text/x-python",
   "name": "python",
   "nbconvert_exporter": "python",
   "pygments_lexer": "ipython3",
   "version": "3.7.7"
  }
 },
 "nbformat": 4,
 "nbformat_minor": 4
}
